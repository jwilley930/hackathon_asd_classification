{
 "cells": [
  {
   "cell_type": "code",
   "execution_count": 1,
   "id": "87b84cfb-faf3-4724-b8bb-8f9edce7839c",
   "metadata": {},
   "outputs": [],
   "source": [
    "import pandas as pd\n",
    "import numpy as np\n",
    "import matplotlib.pyplot as plt\n",
    "import seaborn as sns\n",
    "\n",
    "from sklearn.model_selection import train_test_split, GridSearchCV\n",
    "from sklearn.metrics import accuracy_score, balanced_accuracy_score, recall_score, precision_score, f1_score\n",
    "from sklearn.metrics import confusion_matrix, ConfusionMatrixDisplay\n",
    "\n",
    "from sklearn.linear_model import LogisticRegression\n",
    "from sklearn.neighbors import KNeighborsClassifier\n",
    "from sklearn.tree import DecisionTreeClassifier\n",
    "from sklearn.ensemble import RandomForestClassifier\n",
    "from sklearn.svm import SVC\n",
    "from sklearn.naive_bayes import GaussianNB"
   ]
  },
  {
   "cell_type": "code",
   "execution_count": 3,
   "id": "304a2b37-570f-4301-b111-7449f3fde3f4",
   "metadata": {},
   "outputs": [],
   "source": [
    "df = pd.read_csv('../data/autism_dataset_cleaned.csv')"
   ]
  },
  {
   "cell_type": "code",
   "execution_count": 4,
   "id": "81391e2f-9aa4-4816-940f-cd2165944cb3",
   "metadata": {},
   "outputs": [
    {
     "data": {
      "text/html": [
       "<div>\n",
       "<style scoped>\n",
       "    .dataframe tbody tr th:only-of-type {\n",
       "        vertical-align: middle;\n",
       "    }\n",
       "\n",
       "    .dataframe tbody tr th {\n",
       "        vertical-align: top;\n",
       "    }\n",
       "\n",
       "    .dataframe thead th {\n",
       "        text-align: right;\n",
       "    }\n",
       "</style>\n",
       "<table border=\"1\" class=\"dataframe\">\n",
       "  <thead>\n",
       "    <tr style=\"text-align: right;\">\n",
       "      <th></th>\n",
       "      <th>Unnamed: 0</th>\n",
       "      <th>case_no</th>\n",
       "      <th>a1</th>\n",
       "      <th>a2</th>\n",
       "      <th>a3</th>\n",
       "      <th>a4</th>\n",
       "      <th>a5</th>\n",
       "      <th>a6</th>\n",
       "      <th>a7</th>\n",
       "      <th>a8</th>\n",
       "      <th>...</th>\n",
       "      <th>ethnicity_Latino</th>\n",
       "      <th>ethnicity_Native Indian</th>\n",
       "      <th>ethnicity_Others</th>\n",
       "      <th>ethnicity_Pacifica</th>\n",
       "      <th>ethnicity_White European</th>\n",
       "      <th>ethnicity_asian</th>\n",
       "      <th>ethnicity_black</th>\n",
       "      <th>ethnicity_middle eastern</th>\n",
       "      <th>ethnicity_mixed</th>\n",
       "      <th>ethnicity_south asian</th>\n",
       "    </tr>\n",
       "  </thead>\n",
       "  <tbody>\n",
       "    <tr>\n",
       "      <th>0</th>\n",
       "      <td>0</td>\n",
       "      <td>1</td>\n",
       "      <td>0</td>\n",
       "      <td>0</td>\n",
       "      <td>0</td>\n",
       "      <td>0</td>\n",
       "      <td>0</td>\n",
       "      <td>0</td>\n",
       "      <td>1</td>\n",
       "      <td>1</td>\n",
       "      <td>...</td>\n",
       "      <td>0</td>\n",
       "      <td>0</td>\n",
       "      <td>0</td>\n",
       "      <td>0</td>\n",
       "      <td>0</td>\n",
       "      <td>0</td>\n",
       "      <td>0</td>\n",
       "      <td>1</td>\n",
       "      <td>0</td>\n",
       "      <td>0</td>\n",
       "    </tr>\n",
       "    <tr>\n",
       "      <th>1</th>\n",
       "      <td>1</td>\n",
       "      <td>2</td>\n",
       "      <td>1</td>\n",
       "      <td>1</td>\n",
       "      <td>0</td>\n",
       "      <td>0</td>\n",
       "      <td>0</td>\n",
       "      <td>1</td>\n",
       "      <td>1</td>\n",
       "      <td>0</td>\n",
       "      <td>...</td>\n",
       "      <td>0</td>\n",
       "      <td>0</td>\n",
       "      <td>0</td>\n",
       "      <td>0</td>\n",
       "      <td>1</td>\n",
       "      <td>0</td>\n",
       "      <td>0</td>\n",
       "      <td>0</td>\n",
       "      <td>0</td>\n",
       "      <td>0</td>\n",
       "    </tr>\n",
       "    <tr>\n",
       "      <th>2</th>\n",
       "      <td>2</td>\n",
       "      <td>3</td>\n",
       "      <td>1</td>\n",
       "      <td>0</td>\n",
       "      <td>0</td>\n",
       "      <td>0</td>\n",
       "      <td>0</td>\n",
       "      <td>0</td>\n",
       "      <td>1</td>\n",
       "      <td>1</td>\n",
       "      <td>...</td>\n",
       "      <td>0</td>\n",
       "      <td>0</td>\n",
       "      <td>0</td>\n",
       "      <td>0</td>\n",
       "      <td>0</td>\n",
       "      <td>0</td>\n",
       "      <td>0</td>\n",
       "      <td>1</td>\n",
       "      <td>0</td>\n",
       "      <td>0</td>\n",
       "    </tr>\n",
       "    <tr>\n",
       "      <th>3</th>\n",
       "      <td>3</td>\n",
       "      <td>4</td>\n",
       "      <td>1</td>\n",
       "      <td>1</td>\n",
       "      <td>1</td>\n",
       "      <td>1</td>\n",
       "      <td>1</td>\n",
       "      <td>1</td>\n",
       "      <td>1</td>\n",
       "      <td>1</td>\n",
       "      <td>...</td>\n",
       "      <td>0</td>\n",
       "      <td>0</td>\n",
       "      <td>0</td>\n",
       "      <td>0</td>\n",
       "      <td>0</td>\n",
       "      <td>0</td>\n",
       "      <td>0</td>\n",
       "      <td>0</td>\n",
       "      <td>0</td>\n",
       "      <td>0</td>\n",
       "    </tr>\n",
       "    <tr>\n",
       "      <th>4</th>\n",
       "      <td>4</td>\n",
       "      <td>5</td>\n",
       "      <td>1</td>\n",
       "      <td>1</td>\n",
       "      <td>0</td>\n",
       "      <td>1</td>\n",
       "      <td>1</td>\n",
       "      <td>1</td>\n",
       "      <td>1</td>\n",
       "      <td>1</td>\n",
       "      <td>...</td>\n",
       "      <td>0</td>\n",
       "      <td>0</td>\n",
       "      <td>0</td>\n",
       "      <td>0</td>\n",
       "      <td>1</td>\n",
       "      <td>0</td>\n",
       "      <td>0</td>\n",
       "      <td>0</td>\n",
       "      <td>0</td>\n",
       "      <td>0</td>\n",
       "    </tr>\n",
       "  </tbody>\n",
       "</table>\n",
       "<p>5 rows × 28 columns</p>\n",
       "</div>"
      ],
      "text/plain": [
       "   Unnamed: 0  case_no  a1  a2  a3  a4  a5  a6  a7  a8  ...  ethnicity_Latino  \\\n",
       "0           0        1   0   0   0   0   0   0   1   1  ...                 0   \n",
       "1           1        2   1   1   0   0   0   1   1   0  ...                 0   \n",
       "2           2        3   1   0   0   0   0   0   1   1  ...                 0   \n",
       "3           3        4   1   1   1   1   1   1   1   1  ...                 0   \n",
       "4           4        5   1   1   0   1   1   1   1   1  ...                 0   \n",
       "\n",
       "   ethnicity_Native Indian  ethnicity_Others  ethnicity_Pacifica  \\\n",
       "0                        0                 0                   0   \n",
       "1                        0                 0                   0   \n",
       "2                        0                 0                   0   \n",
       "3                        0                 0                   0   \n",
       "4                        0                 0                   0   \n",
       "\n",
       "   ethnicity_White European  ethnicity_asian  ethnicity_black  \\\n",
       "0                         0                0                0   \n",
       "1                         1                0                0   \n",
       "2                         0                0                0   \n",
       "3                         0                0                0   \n",
       "4                         1                0                0   \n",
       "\n",
       "   ethnicity_middle eastern  ethnicity_mixed  ethnicity_south asian  \n",
       "0                         1                0                      0  \n",
       "1                         0                0                      0  \n",
       "2                         1                0                      0  \n",
       "3                         0                0                      0  \n",
       "4                         0                0                      0  \n",
       "\n",
       "[5 rows x 28 columns]"
      ]
     },
     "execution_count": 4,
     "metadata": {},
     "output_type": "execute_result"
    }
   ],
   "source": [
    "df.head()"
   ]
  },
  {
   "cell_type": "markdown",
   "id": "03503c8d-1319-4aa0-beaa-55b7e30afc2b",
   "metadata": {},
   "source": [
    "#### Train Test Split"
   ]
  },
  {
   "cell_type": "code",
   "execution_count": 5,
   "id": "91bf2dd1-5227-415c-8230-5eb58e44da79",
   "metadata": {},
   "outputs": [],
   "source": [
    "X = df.drop(columns = ['class_asd_traits'])\n",
    "y = df['class_asd_traits']\n",
    "X_train, X_test, y_train, y_test = train_test_split(X, y, stratify=y, test_size=.2, random_state=53)"
   ]
  },
  {
   "cell_type": "code",
   "execution_count": 6,
   "id": "0c819f95-d298-4f97-92ab-e0ebd2d3c2c3",
   "metadata": {},
   "outputs": [
    {
     "data": {
      "text/plain": [
       "((843, 27), (211, 27), (843,), (211,))"
      ]
     },
     "execution_count": 6,
     "metadata": {},
     "output_type": "execute_result"
    }
   ],
   "source": [
    "X_train.shape, X_test.shape, y_train.shape, y_test.shape"
   ]
  },
  {
   "cell_type": "code",
   "execution_count": 7,
   "id": "065dae7b-6151-40a6-b695-a0c279eec813",
   "metadata": {},
   "outputs": [
    {
     "name": "stdout",
     "output_type": "stream",
     "text": [
      "<class 'pandas.core.frame.DataFrame'>\n",
      "Int64Index: 843 entries, 408 to 680\n",
      "Data columns (total 27 columns):\n",
      " #   Column                    Non-Null Count  Dtype  \n",
      "---  ------                    --------------  -----  \n",
      " 0   Unnamed: 0                843 non-null    int64  \n",
      " 1   case_no                   843 non-null    int64  \n",
      " 2   a1                        843 non-null    int64  \n",
      " 3   a2                        843 non-null    int64  \n",
      " 4   a3                        843 non-null    int64  \n",
      " 5   a4                        843 non-null    int64  \n",
      " 6   a5                        843 non-null    int64  \n",
      " 7   a6                        843 non-null    int64  \n",
      " 8   a7                        843 non-null    int64  \n",
      " 9   a8                        843 non-null    int64  \n",
      " 10  a9                        843 non-null    int64  \n",
      " 11  a10                       843 non-null    int64  \n",
      " 12  age_mons                  843 non-null    float64\n",
      " 13  sex                       843 non-null    int64  \n",
      " 14  jaundice                  843 non-null    int64  \n",
      " 15  family_mem_with_asd       843 non-null    int64  \n",
      " 16  ethnicity_Hispanic        843 non-null    int64  \n",
      " 17  ethnicity_Latino          843 non-null    int64  \n",
      " 18  ethnicity_Native Indian   843 non-null    int64  \n",
      " 19  ethnicity_Others          843 non-null    int64  \n",
      " 20  ethnicity_Pacifica        843 non-null    int64  \n",
      " 21  ethnicity_White European  843 non-null    int64  \n",
      " 22  ethnicity_asian           843 non-null    int64  \n",
      " 23  ethnicity_black           843 non-null    int64  \n",
      " 24  ethnicity_middle eastern  843 non-null    int64  \n",
      " 25  ethnicity_mixed           843 non-null    int64  \n",
      " 26  ethnicity_south asian     843 non-null    int64  \n",
      "dtypes: float64(1), int64(26)\n",
      "memory usage: 184.4 KB\n"
     ]
    }
   ],
   "source": [
    "X_train.info()"
   ]
  },
  {
   "cell_type": "markdown",
   "id": "6ed45a23-93d3-49f0-b958-07db8c0c5e9f",
   "metadata": {
    "tags": []
   },
   "source": [
    "#### Baseline"
   ]
  },
  {
   "cell_type": "code",
   "execution_count": 8,
   "id": "2f2a8d37-95e3-4172-87ae-b24e01675c2a",
   "metadata": {},
   "outputs": [
    {
     "data": {
      "text/plain": [
       "1    0.691943\n",
       "0    0.308057\n",
       "Name: class_asd_traits, dtype: float64"
      ]
     },
     "execution_count": 8,
     "metadata": {},
     "output_type": "execute_result"
    }
   ],
   "source": [
    "y_test.value_counts(normalize=True)"
   ]
  },
  {
   "cell_type": "markdown",
   "id": "3f90571d-9ac2-46cc-86ab-d077cadb8c1c",
   "metadata": {},
   "source": [
    "Baseline Accuracy Score = .69   \n"
   ]
  },
  {
   "cell_type": "markdown",
   "id": "d73184b1-1f0f-4780-b8ae-4abf96d38ea2",
   "metadata": {},
   "source": [
    "#### Defining functions to evaluate models"
   ]
  },
  {
   "cell_type": "code",
   "execution_count": 9,
   "id": "f1eebd64-af23-4ea3-9cee-a17c8ba554f4",
   "metadata": {},
   "outputs": [],
   "source": [
    "def class_metrics(y_test, preds):\n",
    "\n",
    "    acc = accuracy_score(y_test, preds)\n",
    "    bas = balanced_accuracy_score(y_test, preds)\n",
    "    rcs = recall_score(y_test, preds)#, pos_label='1')\n",
    "    prs = precision_score(y_test, preds)#, pos_label='1')\n",
    "    f1 = f1_score(y_test, preds)#, pos_label='1')\n",
    "    \n",
    "    print(f'Accuracy Score = {acc} \\nBalanced Accuracy Score = {bas} \\nRecall Score = {rcs} \\nPrecision Score = {prs} \\nF1 Score = {f1}')"
   ]
  },
  {
   "cell_type": "code",
   "execution_count": 10,
   "id": "1b291dcb-76b4-46c7-aa38-fbd0f27e3509",
   "metadata": {},
   "outputs": [],
   "source": [
    "def conf_matrix(y_test, preds):\n",
    "    \n",
    "    cm=confusion_matrix(y_test, preds)\n",
    "    disp = ConfusionMatrixDisplay(confusion_matrix=cm)\n",
    "    disp.plot()\n",
    "    plt.show()"
   ]
  },
  {
   "cell_type": "markdown",
   "id": "4c729047-d8b1-4bb8-b6df-21a9d9c96a34",
   "metadata": {},
   "source": [
    "#### Testing different models without hypertuning"
   ]
  },
  {
   "cell_type": "code",
   "execution_count": 11,
   "id": "be064728-19b9-44c3-a925-199d5916fb09",
   "metadata": {},
   "outputs": [],
   "source": [
    "#I took inspiration to run several models at once from \n",
    "# another Kaggle user's submission on this dataset:\n",
    "# https://www.kaggle.com/code/khuloodnasher/autism-diagnosis"
   ]
  },
  {
   "cell_type": "code",
   "execution_count": 12,
   "id": "7e454cba-f879-458c-89f8-286af681d45c",
   "metadata": {},
   "outputs": [],
   "source": [
    "#modified code from to fit multiple models at once:  https://medium.com/analytics-vidhya/testing-multiple-machine-learning-models-at-once-without-getting-a-headache-5aefb0e7df03\n",
    "models = [\n",
    "    ('LR', LogisticRegression(max_iter=1000)),\n",
    "    ('KNN', KNeighborsClassifier()),\n",
    "    ('DT', DecisionTreeClassifier()),\n",
    "    ('RF', RandomForestClassifier()),\n",
    "    ('SVC', SVC()),\n",
    "    ('NB', GaussianNB())\n",
    "]"
   ]
  },
  {
   "cell_type": "code",
   "execution_count": 13,
   "id": "ab2565d3-3bfe-402f-8e7b-8678c340f52d",
   "metadata": {},
   "outputs": [
    {
     "name": "stdout",
     "output_type": "stream",
     "text": [
      "LogisticRegression(max_iter=1000)\n",
      "Accuracy Score = 1.0 \n",
      "Balanced Accuracy Score = 1.0 \n",
      "Recall Score = 1.0 \n",
      "Precision Score = 1.0 \n",
      "F1 Score = 1.0\n"
     ]
    },
    {
     "data": {
      "image/png": "[encoded data removed]",
      "text/plain": [
       "<Figure size 432x288 with 2 Axes>"
      ]
     },
     "metadata": {
      "needs_background": "light"
     },
     "output_type": "display_data"
    },
    {
     "name": "stdout",
     "output_type": "stream",
     "text": [
      "KNeighborsClassifier()\n",
      "Accuracy Score = 0.6635071090047393 \n",
      "Balanced Accuracy Score = 0.5605374077976818 \n",
      "Recall Score = 0.8287671232876712 \n",
      "Precision Score = 0.7245508982035929 \n",
      "F1 Score = 0.7731629392971245\n"
     ]
    },
    {
     "data": {
      "image/png": "[encoded data removed]",
      "text/plain": [
       "<Figure size 432x288 with 2 Axes>"
      ]
     },
     "metadata": {
      "needs_background": "light"
     },
     "output_type": "display_data"
    },
    {
     "name": "stdout",
     "output_type": "stream",
     "text": [
      "DecisionTreeClassifier()\n",
      "Accuracy Score = 0.9004739336492891 \n",
      "Balanced Accuracy Score = 0.8726027397260274 \n",
      "Recall Score = 0.9452054794520548 \n",
      "Precision Score = 0.9139072847682119 \n",
      "F1 Score = 0.9292929292929293\n"
     ]
    },
    {
     "data": {
      "image/png": "[encoded data removed]",
      "text/plain": [
       "<Figure size 432x288 with 2 Axes>"
      ]
     },
     "metadata": {
      "needs_background": "light"
     },
     "output_type": "display_data"
    },
    {
     "name": "stdout",
     "output_type": "stream",
     "text": [
      "RandomForestClassifier()\n",
      "Accuracy Score = 0.933649289099526 \n",
      "Balanced Accuracy Score = 0.9051106427818757 \n",
      "Recall Score = 0.9794520547945206 \n",
      "Precision Score = 0.9285714285714286 \n",
      "F1 Score = 0.9533333333333334\n"
     ]
    },
    {
     "data": {
      "image/png": "[encoded data removed]",
      "text/plain": [
       "<Figure size 432x288 with 2 Axes>"
      ]
     },
     "metadata": {
      "needs_background": "light"
     },
     "output_type": "display_data"
    },
    {
     "name": "stdout",
     "output_type": "stream",
     "text": [
      "SVC()\n",
      "Accuracy Score = 0.6919431279620853 \n",
      "Balanced Accuracy Score = 0.5 \n",
      "Recall Score = 1.0 \n",
      "Precision Score = 0.6919431279620853 \n",
      "F1 Score = 0.8179271708683473\n"
     ]
    },
    {
     "data": {
      "image/png": "[encoded data removed]",
      "text/plain": [
       "<Figure size 432x288 with 2 Axes>"
      ]
     },
     "metadata": {
      "needs_background": "light"
     },
     "output_type": "display_data"
    },
    {
     "name": "stdout",
     "output_type": "stream",
     "text": [
      "GaussianNB()\n",
      "Accuracy Score = 0.9146919431279621 \n",
      "Balanced Accuracy Score = 0.9298208640674395 \n",
      "Recall Score = 0.8904109589041096 \n",
      "Precision Score = 0.9848484848484849 \n",
      "F1 Score = 0.935251798561151\n"
     ]
    },
    {
     "data": {
      "image/png": "[encoded data removed]",
      "text/plain": [
       "<Figure size 432x288 with 2 Axes>"
      ]
     },
     "metadata": {
      "needs_background": "light"
     },
     "output_type": "display_data"
    }
   ],
   "source": [
    "for modelname, model in models:\n",
    "    modelname = model\n",
    "    modelname.fit(X_train, y_train)\n",
    "    preds = modelname.predict(X_test)\n",
    "    \n",
    "    print(modelname)\n",
    "    class_metrics(y_test, preds)\n",
    "    conf_matrix(y_test, preds)"
   ]
  },
  {
   "cell_type": "markdown",
   "id": "311ce03d-85b4-4444-9e79-e9522177c86b",
   "metadata": {},
   "source": [
    "#### Findings:  \n",
    "LR model scores perfectly on the test set.  \n",
    "KNN and SVC score near the baseline accuracy.  \n",
    "DT, RF, and NB all score well, with accuracy and scores above .9.  \n",
    "I am going to look at feature importance with LR, and then try to improve a weaker model with hypertuning"
   ]
  },
  {
   "cell_type": "markdown",
   "id": "a97d33fa-e8f6-49b2-a250-841ba1a7c516",
   "metadata": {},
   "source": [
    "#### Logistic Regression Feature Importance"
   ]
  },
  {
   "cell_type": "code",
   "execution_count": 14,
   "id": "5f352e57-52b6-47b5-840b-dbd730bdc8bb",
   "metadata": {},
   "outputs": [
    {
     "data": {
      "text/plain": [
       "1.0"
      ]
     },
     "execution_count": 14,
     "metadata": {},
     "output_type": "execute_result"
    }
   ],
   "source": [
    "lr = LogisticRegression(max_iter=10_000)\n",
    "lr.fit(X_train, y_train)\n",
    "lr.score(X_test, y_test)"
   ]
  },
  {
   "cell_type": "code",
   "execution_count": 15,
   "id": "66cad659-55cf-45a8-aa16-366d57c973f0",
   "metadata": {},
   "outputs": [
    {
     "data": {
      "text/plain": [
       "Index(['Unnamed: 0', 'case_no', 'a1', 'a2', 'a3', 'a4', 'a5', 'a6', 'a7', 'a8',\n",
       "       'a9', 'a10', 'age_mons', 'sex', 'jaundice', 'family_mem_with_asd',\n",
       "       'ethnicity_Hispanic', 'ethnicity_Latino', 'ethnicity_Native Indian',\n",
       "       'ethnicity_Others', 'ethnicity_Pacifica', 'ethnicity_White European',\n",
       "       'ethnicity_asian', 'ethnicity_black', 'ethnicity_middle eastern',\n",
       "       'ethnicity_mixed', 'ethnicity_south asian'],\n",
       "      dtype='object')"
      ]
     },
     "execution_count": 15,
     "metadata": {},
     "output_type": "execute_result"
    }
   ],
   "source": [
    "X_test.columns"
   ]
  },
  {
   "cell_type": "code",
   "execution_count": 16,
   "id": "27ca8073-14b8-45b1-85f5-0846dc188119",
   "metadata": {},
   "outputs": [
    {
     "data": {
      "text/html": [
       "<div>\n",
       "<style scoped>\n",
       "    .dataframe tbody tr th:only-of-type {\n",
       "        vertical-align: middle;\n",
       "    }\n",
       "\n",
       "    .dataframe tbody tr th {\n",
       "        vertical-align: top;\n",
       "    }\n",
       "\n",
       "    .dataframe thead th {\n",
       "        text-align: right;\n",
       "    }\n",
       "</style>\n",
       "<table border=\"1\" class=\"dataframe\">\n",
       "  <thead>\n",
       "    <tr style=\"text-align: right;\">\n",
       "      <th></th>\n",
       "      <th>coef</th>\n",
       "    </tr>\n",
       "  </thead>\n",
       "  <tbody>\n",
       "    <tr>\n",
       "      <th>a9</th>\n",
       "      <td>2.832437</td>\n",
       "    </tr>\n",
       "    <tr>\n",
       "      <th>a2</th>\n",
       "      <td>2.749236</td>\n",
       "    </tr>\n",
       "    <tr>\n",
       "      <th>a4</th>\n",
       "      <td>2.572456</td>\n",
       "    </tr>\n",
       "    <tr>\n",
       "      <th>a8</th>\n",
       "      <td>2.518182</td>\n",
       "    </tr>\n",
       "    <tr>\n",
       "      <th>a5</th>\n",
       "      <td>2.384708</td>\n",
       "    </tr>\n",
       "    <tr>\n",
       "      <th>a6</th>\n",
       "      <td>2.342435</td>\n",
       "    </tr>\n",
       "    <tr>\n",
       "      <th>a1</th>\n",
       "      <td>2.311868</td>\n",
       "    </tr>\n",
       "    <tr>\n",
       "      <th>a7</th>\n",
       "      <td>2.282837</td>\n",
       "    </tr>\n",
       "    <tr>\n",
       "      <th>a10</th>\n",
       "      <td>2.170408</td>\n",
       "    </tr>\n",
       "    <tr>\n",
       "      <th>a3</th>\n",
       "      <td>1.699224</td>\n",
       "    </tr>\n",
       "    <tr>\n",
       "      <th>jaundice</th>\n",
       "      <td>0.571774</td>\n",
       "    </tr>\n",
       "    <tr>\n",
       "      <th>ethnicity_Others</th>\n",
       "      <td>0.499026</td>\n",
       "    </tr>\n",
       "    <tr>\n",
       "      <th>ethnicity_asian</th>\n",
       "      <td>0.261853</td>\n",
       "    </tr>\n",
       "    <tr>\n",
       "      <th>ethnicity_Latino</th>\n",
       "      <td>0.178540</td>\n",
       "    </tr>\n",
       "    <tr>\n",
       "      <th>ethnicity_Native Indian</th>\n",
       "      <td>0.147332</td>\n",
       "    </tr>\n",
       "    <tr>\n",
       "      <th>ethnicity_Pacifica</th>\n",
       "      <td>0.141561</td>\n",
       "    </tr>\n",
       "    <tr>\n",
       "      <th>sex</th>\n",
       "      <td>0.133806</td>\n",
       "    </tr>\n",
       "    <tr>\n",
       "      <th>ethnicity_Hispanic</th>\n",
       "      <td>0.034939</td>\n",
       "    </tr>\n",
       "    <tr>\n",
       "      <th>age_mons</th>\n",
       "      <td>0.024488</td>\n",
       "    </tr>\n",
       "    <tr>\n",
       "      <th>Unnamed: 0</th>\n",
       "      <td>0.001843</td>\n",
       "    </tr>\n",
       "    <tr>\n",
       "      <th>case_no</th>\n",
       "      <td>-0.001725</td>\n",
       "    </tr>\n",
       "    <tr>\n",
       "      <th>family_mem_with_asd</th>\n",
       "      <td>-0.085822</td>\n",
       "    </tr>\n",
       "    <tr>\n",
       "      <th>ethnicity_mixed</th>\n",
       "      <td>-0.093528</td>\n",
       "    </tr>\n",
       "    <tr>\n",
       "      <th>ethnicity_White European</th>\n",
       "      <td>-0.163329</td>\n",
       "    </tr>\n",
       "    <tr>\n",
       "      <th>ethnicity_middle eastern</th>\n",
       "      <td>-0.186035</td>\n",
       "    </tr>\n",
       "    <tr>\n",
       "      <th>ethnicity_black</th>\n",
       "      <td>-0.350637</td>\n",
       "    </tr>\n",
       "    <tr>\n",
       "      <th>ethnicity_south asian</th>\n",
       "      <td>-0.473290</td>\n",
       "    </tr>\n",
       "  </tbody>\n",
       "</table>\n",
       "</div>"
      ],
      "text/plain": [
       "                              coef\n",
       "a9                        2.832437\n",
       "a2                        2.749236\n",
       "a4                        2.572456\n",
       "a8                        2.518182\n",
       "a5                        2.384708\n",
       "a6                        2.342435\n",
       "a1                        2.311868\n",
       "a7                        2.282837\n",
       "a10                       2.170408\n",
       "a3                        1.699224\n",
       "jaundice                  0.571774\n",
       "ethnicity_Others          0.499026\n",
       "ethnicity_asian           0.261853\n",
       "ethnicity_Latino          0.178540\n",
       "ethnicity_Native Indian   0.147332\n",
       "ethnicity_Pacifica        0.141561\n",
       "sex                       0.133806\n",
       "ethnicity_Hispanic        0.034939\n",
       "age_mons                  0.024488\n",
       "Unnamed: 0                0.001843\n",
       "case_no                  -0.001725\n",
       "family_mem_with_asd      -0.085822\n",
       "ethnicity_mixed          -0.093528\n",
       "ethnicity_White European -0.163329\n",
       "ethnicity_middle eastern -0.186035\n",
       "ethnicity_black          -0.350637\n",
       "ethnicity_south asian    -0.473290"
      ]
     },
     "execution_count": 16,
     "metadata": {},
     "output_type": "execute_result"
    }
   ],
   "source": [
    "#modified code to create dataframe:  https://towardsdatascience.com/interpreting-coefficients-in-linear-and-logistic-regression-6ddf1295f6f1\n",
    "pd.DataFrame(lr.coef_[0], X_train.columns, columns=['coef']).sort_values(by='coef', ascending=False)"
   ]
  },
  {
   "cell_type": "code",
   "execution_count": 17,
   "id": "4353eba0-eb8a-4c75-b96e-4c2bbff2beb0",
   "metadata": {},
   "outputs": [
    {
     "data": {
      "text/plain": [
       "array([ 1.00184485,  0.99827648, 10.09326467, 15.63069198,  5.46969875,\n",
       "       13.09795999, 10.85589502, 10.40654916,  9.80445903, 12.40602334,\n",
       "       16.98680802,  8.761862  ,  1.02479081,  1.14317136,  1.7714065 ,\n",
       "        0.91775734,  1.03555663,  1.19547098,  1.15873836,  1.64711662,\n",
       "        1.15207042,  0.84931185,  1.29933505,  0.70423959,  0.83024492,\n",
       "        0.91071212,  0.62294916])"
      ]
     },
     "execution_count": 17,
     "metadata": {},
     "output_type": "execute_result"
    }
   ],
   "source": [
    "odds = np.exp(lr.coef_[0])\n",
    "odds"
   ]
  },
  {
   "cell_type": "code",
   "execution_count": 18,
   "id": "1ced7aad-f1f0-451d-ac36-6261e1a61bf8",
   "metadata": {},
   "outputs": [
    {
     "data": {
      "text/html": [
       "<div>\n",
       "<style scoped>\n",
       "    .dataframe tbody tr th:only-of-type {\n",
       "        vertical-align: middle;\n",
       "    }\n",
       "\n",
       "    .dataframe tbody tr th {\n",
       "        vertical-align: top;\n",
       "    }\n",
       "\n",
       "    .dataframe thead th {\n",
       "        text-align: right;\n",
       "    }\n",
       "</style>\n",
       "<table border=\"1\" class=\"dataframe\">\n",
       "  <thead>\n",
       "    <tr style=\"text-align: right;\">\n",
       "      <th></th>\n",
       "      <th>odds</th>\n",
       "    </tr>\n",
       "  </thead>\n",
       "  <tbody>\n",
       "    <tr>\n",
       "      <th>a9</th>\n",
       "      <td>16.986808</td>\n",
       "    </tr>\n",
       "    <tr>\n",
       "      <th>a2</th>\n",
       "      <td>15.630692</td>\n",
       "    </tr>\n",
       "    <tr>\n",
       "      <th>a4</th>\n",
       "      <td>13.097960</td>\n",
       "    </tr>\n",
       "    <tr>\n",
       "      <th>a8</th>\n",
       "      <td>12.406023</td>\n",
       "    </tr>\n",
       "    <tr>\n",
       "      <th>a5</th>\n",
       "      <td>10.855895</td>\n",
       "    </tr>\n",
       "    <tr>\n",
       "      <th>a6</th>\n",
       "      <td>10.406549</td>\n",
       "    </tr>\n",
       "    <tr>\n",
       "      <th>a1</th>\n",
       "      <td>10.093265</td>\n",
       "    </tr>\n",
       "    <tr>\n",
       "      <th>a7</th>\n",
       "      <td>9.804459</td>\n",
       "    </tr>\n",
       "    <tr>\n",
       "      <th>a10</th>\n",
       "      <td>8.761862</td>\n",
       "    </tr>\n",
       "    <tr>\n",
       "      <th>a3</th>\n",
       "      <td>5.469699</td>\n",
       "    </tr>\n",
       "    <tr>\n",
       "      <th>jaundice</th>\n",
       "      <td>1.771406</td>\n",
       "    </tr>\n",
       "    <tr>\n",
       "      <th>ethnicity_Others</th>\n",
       "      <td>1.647117</td>\n",
       "    </tr>\n",
       "    <tr>\n",
       "      <th>ethnicity_asian</th>\n",
       "      <td>1.299335</td>\n",
       "    </tr>\n",
       "    <tr>\n",
       "      <th>ethnicity_Latino</th>\n",
       "      <td>1.195471</td>\n",
       "    </tr>\n",
       "    <tr>\n",
       "      <th>ethnicity_Native Indian</th>\n",
       "      <td>1.158738</td>\n",
       "    </tr>\n",
       "    <tr>\n",
       "      <th>ethnicity_Pacifica</th>\n",
       "      <td>1.152070</td>\n",
       "    </tr>\n",
       "    <tr>\n",
       "      <th>sex</th>\n",
       "      <td>1.143171</td>\n",
       "    </tr>\n",
       "    <tr>\n",
       "      <th>ethnicity_Hispanic</th>\n",
       "      <td>1.035557</td>\n",
       "    </tr>\n",
       "    <tr>\n",
       "      <th>age_mons</th>\n",
       "      <td>1.024791</td>\n",
       "    </tr>\n",
       "    <tr>\n",
       "      <th>Unnamed: 0</th>\n",
       "      <td>1.001845</td>\n",
       "    </tr>\n",
       "    <tr>\n",
       "      <th>case_no</th>\n",
       "      <td>0.998276</td>\n",
       "    </tr>\n",
       "    <tr>\n",
       "      <th>family_mem_with_asd</th>\n",
       "      <td>0.917757</td>\n",
       "    </tr>\n",
       "    <tr>\n",
       "      <th>ethnicity_mixed</th>\n",
       "      <td>0.910712</td>\n",
       "    </tr>\n",
       "    <tr>\n",
       "      <th>ethnicity_White European</th>\n",
       "      <td>0.849312</td>\n",
       "    </tr>\n",
       "    <tr>\n",
       "      <th>ethnicity_middle eastern</th>\n",
       "      <td>0.830245</td>\n",
       "    </tr>\n",
       "    <tr>\n",
       "      <th>ethnicity_black</th>\n",
       "      <td>0.704240</td>\n",
       "    </tr>\n",
       "    <tr>\n",
       "      <th>ethnicity_south asian</th>\n",
       "      <td>0.622949</td>\n",
       "    </tr>\n",
       "  </tbody>\n",
       "</table>\n",
       "</div>"
      ],
      "text/plain": [
       "                               odds\n",
       "a9                        16.986808\n",
       "a2                        15.630692\n",
       "a4                        13.097960\n",
       "a8                        12.406023\n",
       "a5                        10.855895\n",
       "a6                        10.406549\n",
       "a1                        10.093265\n",
       "a7                         9.804459\n",
       "a10                        8.761862\n",
       "a3                         5.469699\n",
       "jaundice                   1.771406\n",
       "ethnicity_Others           1.647117\n",
       "ethnicity_asian            1.299335\n",
       "ethnicity_Latino           1.195471\n",
       "ethnicity_Native Indian    1.158738\n",
       "ethnicity_Pacifica         1.152070\n",
       "sex                        1.143171\n",
       "ethnicity_Hispanic         1.035557\n",
       "age_mons                   1.024791\n",
       "Unnamed: 0                 1.001845\n",
       "case_no                    0.998276\n",
       "family_mem_with_asd        0.917757\n",
       "ethnicity_mixed            0.910712\n",
       "ethnicity_White European   0.849312\n",
       "ethnicity_middle eastern   0.830245\n",
       "ethnicity_black            0.704240\n",
       "ethnicity_south asian      0.622949"
      ]
     },
     "execution_count": 18,
     "metadata": {},
     "output_type": "execute_result"
    }
   ],
   "source": [
    "pd.DataFrame(odds, X_train.columns, columns=['odds']).sort_values(by='odds', ascending=False)"
   ]
  },
  {
   "cell_type": "markdown",
   "id": "54a40b0f-2f60-4aa4-84f4-03a440fbc234",
   "metadata": {},
   "source": [
    "##### Interpretation:\n",
    "For each unit increase in a2, odds of the patient being classified as autistic are 15.7x as large as odds that patient is not classified as autistic (all else constant)."
   ]
  },
  {
   "cell_type": "markdown",
   "id": "f8d3dfe2-63d4-46c9-8fa6-b1f69c50f718",
   "metadata": {},
   "source": [
    "##### Findings:\n",
    "Questions A9, A9, and A4 have the highest coefficients. - Yes for A9 indicates being 17x more likely to be classified as showing signs of ASD  \n",
    "A3 and A10 have the lowest coefficients of the questions   - Yes for A3 indicates being 5.5x more likely to be classified for ASD  \n",
    "Jaundice: being born with jaundice increase the odds by 1.8x for ASD  \n",
    "Sex: males are more 1.2x more likely to show signs of ASD     \n",
    "Family member: from this sample, having a family member with ASD is not a very significant productor, odds .9 compared to those who didn't report a family member with asd   "
   ]
  },
  {
   "cell_type": "code",
   "execution_count": 19,
   "id": "4b9ba99c-2dfd-429c-82a7-048e68d81982",
   "metadata": {},
   "outputs": [
    {
     "data": {
      "text/plain": [
       "Index(['Unnamed: 0', 'case_no', 'a1', 'a2', 'a3', 'a4', 'a5', 'a6', 'a7', 'a8',\n",
       "       'a9', 'a10', 'age_mons', 'sex', 'jaundice', 'family_mem_with_asd',\n",
       "       'class_asd_traits', 'ethnicity_Hispanic', 'ethnicity_Latino',\n",
       "       'ethnicity_Native Indian', 'ethnicity_Others', 'ethnicity_Pacifica',\n",
       "       'ethnicity_White European', 'ethnicity_asian', 'ethnicity_black',\n",
       "       'ethnicity_middle eastern', 'ethnicity_mixed', 'ethnicity_south asian'],\n",
       "      dtype='object')"
      ]
     },
     "execution_count": 19,
     "metadata": {},
     "output_type": "execute_result"
    }
   ],
   "source": [
    "df.columns"
   ]
  },
  {
   "cell_type": "markdown",
   "id": "fb99445e-3592-4fb7-940b-d9ee77ce26d6",
   "metadata": {},
   "source": [
    "#### Improving KNN Model"
   ]
  },
  {
   "cell_type": "code",
   "execution_count": 20,
   "id": "55b0e984-a416-4202-bb43-f537217ffeae",
   "metadata": {},
   "outputs": [
    {
     "data": {
      "text/plain": [
       "{'algorithm': 'auto',\n",
       " 'leaf_size': 30,\n",
       " 'metric': 'minkowski',\n",
       " 'metric_params': None,\n",
       " 'n_jobs': None,\n",
       " 'n_neighbors': 5,\n",
       " 'p': 2,\n",
       " 'weights': 'uniform'}"
      ]
     },
     "execution_count": 20,
     "metadata": {},
     "output_type": "execute_result"
    }
   ],
   "source": [
    "knn = KNeighborsClassifier()\n",
    "knn.get_params()"
   ]
  },
  {
   "cell_type": "code",
   "execution_count": 21,
   "id": "b4f9bbb5-aef1-4e01-a462-3047a1ceb18a",
   "metadata": {},
   "outputs": [],
   "source": [
    "params = {\n",
    "    'n_neighbors': [2, 4, 8, 10, 20],\n",
    "    'weights': ['uniform', 'distance'],\n",
    "    'metric': ['euclidean', 'manhattan', 'minkowski'],\n",
    "    'leaf_size': [2, 5, 10, 20, 30, 50]\n",
    "}"
   ]
  },
  {
   "cell_type": "code",
   "execution_count": 22,
   "id": "a0a6eef9-151d-4958-94f3-b0f73c7be786",
   "metadata": {},
   "outputs": [],
   "source": [
    "gs = GridSearchCV(knn, param_grid=params, verbose=1, n_jobs=-1)"
   ]
  },
  {
   "cell_type": "code",
   "execution_count": 23,
   "id": "95281f24-78fa-4af7-81f3-dc6c7fdcf3d9",
   "metadata": {},
   "outputs": [
    {
     "name": "stdout",
     "output_type": "stream",
     "text": [
      "Fitting 5 folds for each of 180 candidates, totalling 900 fits\n"
     ]
    },
    {
     "data": {
      "text/plain": [
       "GridSearchCV(estimator=KNeighborsClassifier(), n_jobs=-1,\n",
       "             param_grid={'leaf_size': [2, 5, 10, 20, 30, 50],\n",
       "                         'metric': ['euclidean', 'manhattan', 'minkowski'],\n",
       "                         'n_neighbors': [2, 4, 8, 10, 20],\n",
       "                         'weights': ['uniform', 'distance']},\n",
       "             verbose=1)"
      ]
     },
     "execution_count": 23,
     "metadata": {},
     "output_type": "execute_result"
    }
   ],
   "source": [
    "gs.fit(X_train, y_train)"
   ]
  },
  {
   "cell_type": "code",
   "execution_count": 24,
   "id": "1f3b3ceb-1d0e-4fb8-8cc3-c5297f3aa54d",
   "metadata": {},
   "outputs": [
    {
     "data": {
      "text/plain": [
       "0.7440758293838863"
      ]
     },
     "execution_count": 24,
     "metadata": {},
     "output_type": "execute_result"
    }
   ],
   "source": [
    "gs.score(X_test, y_test)"
   ]
  },
  {
   "cell_type": "code",
   "execution_count": 25,
   "id": "a41ccd23-9cfb-4030-9566-ae2e94d377b5",
   "metadata": {},
   "outputs": [
    {
     "data": {
      "text/plain": [
       "{'leaf_size': 2,\n",
       " 'metric': 'manhattan',\n",
       " 'n_neighbors': 8,\n",
       " 'weights': 'distance'}"
      ]
     },
     "execution_count": 25,
     "metadata": {},
     "output_type": "execute_result"
    }
   ],
   "source": [
    "gs.best_params_"
   ]
  },
  {
   "cell_type": "code",
   "execution_count": 26,
   "id": "a489d85c-618e-4705-b843-be4224581b68",
   "metadata": {},
   "outputs": [],
   "source": [
    "gs_preds = gs.predict(X_test)"
   ]
  },
  {
   "cell_type": "code",
   "execution_count": 27,
   "id": "3dffbf05-0315-469f-b1f0-b9817d976c6e",
   "metadata": {},
   "outputs": [
    {
     "name": "stdout",
     "output_type": "stream",
     "text": [
      "Accuracy Score = 0.7440758293838863 \n",
      "Balanced Accuracy Score = 0.6571654373024236 \n",
      "Recall Score = 0.8835616438356164 \n",
      "Precision Score = 0.7771084337349398 \n",
      "F1 Score = 0.8269230769230769\n"
     ]
    }
   ],
   "source": [
    "class_metrics(y_test, gs_preds)"
   ]
  },
  {
   "cell_type": "code",
   "execution_count": 28,
   "id": "a18bcfbd-9f57-4407-bbd9-619f96793c96",
   "metadata": {},
   "outputs": [
    {
     "data": {
      "image/png": "[encoded data removed]",
      "text/plain": [
       "<Figure size 432x288 with 2 Axes>"
      ]
     },
     "metadata": {
      "needs_background": "light"
     },
     "output_type": "display_data"
    }
   ],
   "source": [
    "conf_matrix(y_test, gs_preds)"
   ]
  },
  {
   "cell_type": "code",
   "execution_count": null,
   "id": "d04cadda-5899-4cc2-9a2b-bc02009a7263",
   "metadata": {},
   "outputs": [],
   "source": []
  }
 ],
 "metadata": {
  "kernelspec": {
   "display_name": "Python 3 (ipykernel)",
   "language": "python",
   "name": "python3"
  },
  "language_info": {
   "codemirror_mode": {
    "name": "ipython",
    "version": 3
   },
   "file_extension": ".py",
   "mimetype": "text/x-python",
   "name": "python",
   "nbconvert_exporter": "python",
   "pygments_lexer": "ipython3",
   "version": "3.9.7"
  }
 },
 "nbformat": 4,
 "nbformat_minor": 5
}
